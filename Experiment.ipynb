{
 "cells": [
  {
   "cell_type": "code",
   "execution_count": 1,
   "metadata": {},
   "outputs": [],
   "source": [
    "import numpy as np\n",
    "import pandas as pd\n",
    "import matplotlib.pyplot as plt\n",
    "import seaborn as sns\n",
    "from sklearn import metrics\n",
    "%matplotlib inline\n",
    "import seaborn as sns\n",
    "import glob\n",
    "\n",
    "sns.set()"
   ]
  },
  {
   "cell_type": "code",
   "execution_count": 2,
   "metadata": {},
   "outputs": [],
   "source": [
    "\n",
    "# Create an empty DataFrame to store the merged data\n",
    "merged_df = pd.DataFrame()\n",
    "\n",
    "# Get a list of all CSV files in the directory\n",
    "csv_files = glob.glob('*.csv')  # Assuming all CSV files are in the same directory\n",
    "\n",
    "# Define the columns to select\n",
    "columns_to_select = [\n",
    "    'products-link-href',\n",
    "    'products-name',\n",
    "    'products-price',\n",
    "    'products-rating'\n",
    "]\n",
    "\n",
    "for csv_file in csv_files:\n",
    "    try:\n",
    "        # Read each CSV file and select the desired columns\n",
    "        df = pd.read_csv(csv_file, usecols=columns_to_select)\n",
    "        \n",
    "        # Append the selected columns to the merged DataFrame\n",
    "        merged_df = pd.concat([merged_df, df], ignore_index=True)\n",
    "    except ValueError as e:\n",
    "        print(f\"Skipping {csv_file} due to the following error: {e}\")\n",
    "\n",
    "# Save the merged DataFrame to a new CSV file\n",
    "merged_df.to_csv('merged_file.csv', index=False)\n"
   ]
  },
  {
   "cell_type": "code",
   "execution_count": 3,
   "metadata": {},
   "outputs": [
    {
     "name": "stderr",
     "output_type": "stream",
     "text": [
      "<ipython-input-3-0d162646de21>:8: UserWarning: Boolean Series key will be reindexed to match DataFrame index.\n",
      "  df = df[~mask_1]\n"
     ]
    }
   ],
   "source": [
    "\n",
    "def process_product_price(df):\n",
    "    # Create a boolean mask to identify rows where 'product_price' cannot be converted to float\n",
    "    mask = pd.to_numeric(df['products-price'], errors='coerce').isna()\n",
    "    mask_1 = pd.to_numeric(df['products-rating'], errors='coerce').isna()\n",
    "\n",
    "    # Drop rows where 'product_price' cannot be converted to float\n",
    "    df = df[~mask]\n",
    "    df = df[~mask_1]\n",
    "\n",
    "    # Convert the 'product_price' column to float\n",
    "    df['products-price'] = df['products-price'].astype(float)\n",
    "    df['products-rating'] = df['products-rating'].astype(float)\n",
    "\n",
    "    return df\n",
    "\n",
    "\n",
    "# Process the DataFrame using the function\n",
    "df = process_product_price(merged_df)\n",
    "\n"
   ]
  },
  {
   "cell_type": "code",
   "execution_count": 4,
   "metadata": {},
   "outputs": [],
   "source": [
    "df['products-link-href'] = df['products-link-href'].astype(str)\n",
    "df['products-name'] = df['products-name'].astype(str)\n",
    "df['products-price'] = df['products-price'].astype('float32')\n",
    "df['products-rating'] = df['products-rating'].astype('float32')"
   ]
  },
  {
   "cell_type": "code",
   "execution_count": 5,
   "metadata": {},
   "outputs": [
    {
     "data": {
      "text/plain": [
       "products-link-href    0\n",
       "products-name         0\n",
       "products-price        0\n",
       "products-rating       0\n",
       "dtype: int64"
      ]
     },
     "execution_count": 5,
     "metadata": {},
     "output_type": "execute_result"
    }
   ],
   "source": [
    "df[df.isnull().any(axis=1)].count()"
   ]
  },
  {
   "cell_type": "code",
   "execution_count": 6,
   "metadata": {},
   "outputs": [
    {
     "data": {
      "text/plain": [
       "<AxesSubplot:>"
      ]
     },
     "execution_count": 6,
     "metadata": {},
     "output_type": "execute_result"
    },
    {
     "data": {
      "image/png": "[encoded data removed]",
      "text/plain": [
       "<Figure size 432x288 with 2 Axes>"
      ]
     },
     "metadata": {},
     "output_type": "display_data"
    }
   ],
   "source": [
    "sns.heatmap(df.isnull())"
   ]
  },
  {
   "cell_type": "code",
   "execution_count": 7,
   "metadata": {},
   "outputs": [
    {
     "data": {
      "text/html": [
       "<div>\n",
       "<style scoped>\n",
       "    .dataframe tbody tr th:only-of-type {\n",
       "        vertical-align: middle;\n",
       "    }\n",
       "\n",
       "    .dataframe tbody tr th {\n",
       "        vertical-align: top;\n",
       "    }\n",
       "\n",
       "    .dataframe thead th {\n",
       "        text-align: right;\n",
       "    }\n",
       "</style>\n",
       "<table border=\"1\" class=\"dataframe\">\n",
       "  <thead>\n",
       "    <tr style=\"text-align: right;\">\n",
       "      <th></th>\n",
       "      <th>products-price</th>\n",
       "      <th>products-rating</th>\n",
       "    </tr>\n",
       "  </thead>\n",
       "  <tbody>\n",
       "    <tr>\n",
       "      <th>count</th>\n",
       "      <td>1.856100e+04</td>\n",
       "      <td>18561.000000</td>\n",
       "    </tr>\n",
       "    <tr>\n",
       "      <th>mean</th>\n",
       "      <td>4.249909e+03</td>\n",
       "      <td>1.664706</td>\n",
       "    </tr>\n",
       "    <tr>\n",
       "      <th>std</th>\n",
       "      <td>2.659778e+04</td>\n",
       "      <td>2.499047</td>\n",
       "    </tr>\n",
       "    <tr>\n",
       "      <th>min</th>\n",
       "      <td>0.000000e+00</td>\n",
       "      <td>0.000000</td>\n",
       "    </tr>\n",
       "    <tr>\n",
       "      <th>25%</th>\n",
       "      <td>2.000000e+02</td>\n",
       "      <td>0.000000</td>\n",
       "    </tr>\n",
       "    <tr>\n",
       "      <th>50%</th>\n",
       "      <td>4.800000e+02</td>\n",
       "      <td>0.000000</td>\n",
       "    </tr>\n",
       "    <tr>\n",
       "      <th>75%</th>\n",
       "      <td>1.450000e+03</td>\n",
       "      <td>4.200000</td>\n",
       "    </tr>\n",
       "    <tr>\n",
       "      <th>max</th>\n",
       "      <td>1.800000e+06</td>\n",
       "      <td>180.000000</td>\n",
       "    </tr>\n",
       "  </tbody>\n",
       "</table>\n",
       "</div>"
      ],
      "text/plain": [
       "       products-price  products-rating\n",
       "count    1.856100e+04     18561.000000\n",
       "mean     4.249909e+03         1.664706\n",
       "std      2.659778e+04         2.499047\n",
       "min      0.000000e+00         0.000000\n",
       "25%      2.000000e+02         0.000000\n",
       "50%      4.800000e+02         0.000000\n",
       "75%      1.450000e+03         4.200000\n",
       "max      1.800000e+06       180.000000"
      ]
     },
     "execution_count": 7,
     "metadata": {},
     "output_type": "execute_result"
    }
   ],
   "source": [
    "df.describe()"
   ]
  },
  {
   "cell_type": "code",
   "execution_count": 8,
   "metadata": {},
   "outputs": [
    {
     "name": "stdout",
     "output_type": "stream",
     "text": [
      "Samsung Galaxy A51 6GB 128GB\n"
     ]
    }
   ],
   "source": [
    "product_name = input()"
   ]
  },
  {
   "cell_type": "code",
   "execution_count": 9,
   "metadata": {},
   "outputs": [],
   "source": [
    "new_row_data = {'products-link-href': 'Null', 'products-name': product_name, 'products-price': 0.0, 'products-rating': 0.0}\n",
    "\n",
    "\n",
    "new_row_df = pd.DataFrame([new_row_data])\n",
    "\n",
    "# Concatenate the new DataFrame with the original DataFrame, and reset the index\n",
    "df = pd.concat([df, new_row_df]).reset_index(drop=True)"
   ]
  },
  {
   "cell_type": "code",
   "execution_count": 10,
   "metadata": {},
   "outputs": [
    {
     "data": {
      "text/html": [
       "<div>\n",
       "<style scoped>\n",
       "    .dataframe tbody tr th:only-of-type {\n",
       "        vertical-align: middle;\n",
       "    }\n",
       "\n",
       "    .dataframe tbody tr th {\n",
       "        vertical-align: top;\n",
       "    }\n",
       "\n",
       "    .dataframe thead th {\n",
       "        text-align: right;\n",
       "    }\n",
       "</style>\n",
       "<table border=\"1\" class=\"dataframe\">\n",
       "  <thead>\n",
       "    <tr style=\"text-align: right;\">\n",
       "      <th></th>\n",
       "      <th>products-link-href</th>\n",
       "      <th>products-name</th>\n",
       "      <th>products-price</th>\n",
       "      <th>products-rating</th>\n",
       "    </tr>\n",
       "  </thead>\n",
       "  <tbody>\n",
       "    <tr>\n",
       "      <th>18557</th>\n",
       "      <td>https://sindabad.com/hp-201a-original-laserjet...</td>\n",
       "      <td>HP 201A Original LaserJet Toner Cartridge, Mag...</td>\n",
       "      <td>7250.0</td>\n",
       "      <td>0.0</td>\n",
       "    </tr>\n",
       "    <tr>\n",
       "      <th>18558</th>\n",
       "      <td>https://sindabad.com/osaka-pvc-tape-black.html</td>\n",
       "      <td>Osaka PVC Tape, Black</td>\n",
       "      <td>23.0</td>\n",
       "      <td>0.0</td>\n",
       "    </tr>\n",
       "    <tr>\n",
       "      <th>18559</th>\n",
       "      <td>https://sindabad.com/afk-fingertip-pulse-oxime...</td>\n",
       "      <td>AFK Fingertip Pulse Oximeter</td>\n",
       "      <td>1399.0</td>\n",
       "      <td>0.0</td>\n",
       "    </tr>\n",
       "    <tr>\n",
       "      <th>18560</th>\n",
       "      <td>https://sindabad.com/double-needle-bobbin-alum...</td>\n",
       "      <td>Henxeng Double Needle Bobbin, Aluminium</td>\n",
       "      <td>5.0</td>\n",
       "      <td>0.0</td>\n",
       "    </tr>\n",
       "    <tr>\n",
       "      <th>18561</th>\n",
       "      <td>Null</td>\n",
       "      <td>Samsung Galaxy A51 6GB 128GB</td>\n",
       "      <td>0.0</td>\n",
       "      <td>0.0</td>\n",
       "    </tr>\n",
       "  </tbody>\n",
       "</table>\n",
       "</div>"
      ],
      "text/plain": [
       "                                      products-link-href  \\\n",
       "18557  https://sindabad.com/hp-201a-original-laserjet...   \n",
       "18558     https://sindabad.com/osaka-pvc-tape-black.html   \n",
       "18559  https://sindabad.com/afk-fingertip-pulse-oxime...   \n",
       "18560  https://sindabad.com/double-needle-bobbin-alum...   \n",
       "18561                                               Null   \n",
       "\n",
       "                                           products-name  products-price  \\\n",
       "18557  HP 201A Original LaserJet Toner Cartridge, Mag...          7250.0   \n",
       "18558                              Osaka PVC Tape, Black            23.0   \n",
       "18559                       AFK Fingertip Pulse Oximeter          1399.0   \n",
       "18560            Henxeng Double Needle Bobbin, Aluminium             5.0   \n",
       "18561                       Samsung Galaxy A51 6GB 128GB             0.0   \n",
       "\n",
       "       products-rating  \n",
       "18557              0.0  \n",
       "18558              0.0  \n",
       "18559              0.0  \n",
       "18560              0.0  \n",
       "18561              0.0  "
      ]
     },
     "execution_count": 10,
     "metadata": {},
     "output_type": "execute_result"
    }
   ],
   "source": [
    "df.tail(5)"
   ]
  },
  {
   "cell_type": "code",
   "execution_count": 11,
   "metadata": {},
   "outputs": [
    {
     "data": {
      "text/plain": [
       "0             emami 7 oils in one pumpkin plus - 100ml\n",
       "1    kodomo professional children milk teeth toothb...\n",
       "2      gucci - memoire eau de parfum for women - 100mi\n",
       "3    dove - go fresh pomegranate roll-on anti-persp...\n",
       "4      kodomo grape flavor children's toothpaste - 40g\n",
       "5          johnson's baby cotton touch wipes 56 pieces\n",
       "6    aveeno skin relief dry skin body wash - chamom...\n",
       "7                         everyday lipstick - combo 01\n",
       "8    ogx - renewing argan oil of morocco extra pnet...\n",
       "9       emami - kesh king plus herbal hair oil - 100ml\n",
       "Name: products-name, dtype: object"
      ]
     },
     "execution_count": 11,
     "metadata": {},
     "output_type": "execute_result"
    }
   ],
   "source": [
    "name = df['products-name'].str.lower()\n",
    "name.head(10)"
   ]
  },
  {
   "cell_type": "code",
   "execution_count": 12,
   "metadata": {},
   "outputs": [
    {
     "data": {
      "text/plain": [
       "<18562x9458 sparse matrix of type '<class 'numpy.int64'>'\n",
       "\twith 139006 stored elements in Compressed Sparse Row format>"
      ]
     },
     "execution_count": 12,
     "metadata": {},
     "output_type": "execute_result"
    }
   ],
   "source": [
    "from sklearn.feature_extraction.text import CountVectorizer\n",
    "from scipy.sparse import csr_matrix\n",
    "\n",
    "import pandas as pd\n",
    "\n",
    "# Create the Document Term Matrix\n",
    "count_vectorizer = CountVectorizer(stop_words='english')\n",
    "count_vectorizer = CountVectorizer()\n",
    "x = count_vectorizer.fit_transform(df['products-name'].values.astype('U'))\n",
    "\n",
    "x"
   ]
  },
  {
   "cell_type": "code",
   "execution_count": 13,
   "metadata": {},
   "outputs": [],
   "source": [
    "from sklearn.metrics.pairwise import cosine_similarity\n",
    "P = cosine_similarity(x, x)"
   ]
  },
  {
   "cell_type": "code",
   "execution_count": 14,
   "metadata": {},
   "outputs": [
    {
     "data": {
      "text/plain": [
       "array([[1., 0., 0., ..., 0., 0., 0.],\n",
       "       [0., 1., 0., ..., 0., 0., 0.],\n",
       "       [0., 0., 1., ..., 0., 0., 0.],\n",
       "       ...,\n",
       "       [0., 0., 0., ..., 1., 0., 0.],\n",
       "       [0., 0., 0., ..., 0., 1., 0.],\n",
       "       [0., 0., 0., ..., 0., 0., 1.]])"
      ]
     },
     "execution_count": 14,
     "metadata": {},
     "output_type": "execute_result"
    }
   ],
   "source": [
    "P"
   ]
  },
  {
   "cell_type": "code",
   "execution_count": 15,
   "metadata": {},
   "outputs": [],
   "source": [
    "l1 = len(P)\n",
    "l1 = l1-1"
   ]
  },
  {
   "cell_type": "code",
   "execution_count": 16,
   "metadata": {},
   "outputs": [
    {
     "name": "stdout",
     "output_type": "stream",
     "text": [
      "Top product 1:\n",
      "products-link-href    https://www.pickaboo.com/samsung-galaxy-note10...\n",
      "products-name                               Samsung Galaxy Note 10 Lite\n",
      "products-price                                                  44999.0\n",
      "products-rating                                                     4.7\n",
      "Name: 18377, dtype: object\n",
      "Top product 2:\n",
      "products-link-href    https://www.pickaboo.com/samsung-galaxy-m01-co...\n",
      "products-name                          Samsung Galaxy M01 Core 1GB/16GB\n",
      "products-price                                                   6299.0\n",
      "products-rating                                                     4.7\n",
      "Name: 18309, dtype: object\n",
      "Top product 3:\n",
      "products-link-href    https://www.pickaboo.com/samsung-galaxy-note10...\n",
      "products-name                               Samsung Galaxy Note 10 Lite\n",
      "products-price                                                  44999.0\n",
      "products-rating                                                     4.7\n",
      "Name: 14314, dtype: object\n",
      "Top product 4:\n",
      "products-link-href    https://www.pickaboo.com/samsung-galaxy-m01-co...\n",
      "products-name                          Samsung Galaxy M01 Core 1GB/16GB\n",
      "products-price                                                   6299.0\n",
      "products-rating                                                     4.7\n",
      "Name: 14246, dtype: object\n",
      "Top product 5:\n",
      "products-link-href    https://www.pickaboo.com/samsung-galaxy-m21-6g...\n",
      "products-name                              Samsung Galaxy M21 6GB/128GB\n",
      "products-price                                                  19999.0\n",
      "products-rating                                                     4.6\n",
      "Name: 18310, dtype: object\n"
     ]
    }
   ],
   "source": [
    "# Initialize empty lists to store values and indices\n",
    "selected_values = []\n",
    "selected_indices = []\n",
    "\n",
    "# Step 1: Filter values based on a condition\n",
    "for i in range(len(P)):\n",
    "    if 0.3 <= P[i][l1] <= 0.9999999:\n",
    "        selected_values.append(P[i][l1])\n",
    "        selected_indices.append(i)\n",
    "\n",
    "# Step 2: Sort selected values in descending order along with their indices\n",
    "sorted_values_with_indices = sorted(zip(selected_values, selected_indices), reverse=True)\n",
    "\n",
    "# Step 3: Extract sorted indices\n",
    "sorted_indices = [index for _, index in sorted_values_with_indices]\n",
    "\n",
    "# Step 4: Create a list of product ratings based on sorted indices\n",
    "rating_list = [df.loc[i]['products-rating'] for i in sorted_indices]\n",
    "\n",
    "# Step 5: Sort product ratings along with their indices\n",
    "sorted_ratings_with_indices = sorted(zip(rating_list, sorted_indices), reverse=True)\n",
    "\n",
    "# Step 6: Extract final sorted indices\n",
    "sorted_final_indices = [index for _, index in sorted_ratings_with_indices]\n",
    "\n",
    "# Step 7: Print the top 5 rows from the DataFrame based on sorted indices\n",
    "for i, index in enumerate(sorted_final_indices):\n",
    "    print(f\"Top product {i + 1}:\")\n",
    "    print(df.loc[index])\n",
    "    if i >= 4:  # Print the top 5 products\n",
    "        break\n"
   ]
  },
  {
   "cell_type": "code",
   "execution_count": null,
   "metadata": {},
   "outputs": [],
   "source": []
  },
  {
   "cell_type": "code",
   "execution_count": null,
   "metadata": {},
   "outputs": [],
   "source": []
  }
 ],
 "metadata": {
  "kernelspec": {
   "display_name": "Python 3",
   "language": "python",
   "name": "python3"
  },
  "language_info": {
   "codemirror_mode": {
    "name": "ipython",
    "version": 3
   },
   "file_extension": ".py",
   "mimetype": "text/x-python",
   "name": "python",
   "nbconvert_exporter": "python",
   "pygments_lexer": "ipython3",
   "version": "3.8.10"
  }
 },
 "nbformat": 4,
 "nbformat_minor": 4
}
